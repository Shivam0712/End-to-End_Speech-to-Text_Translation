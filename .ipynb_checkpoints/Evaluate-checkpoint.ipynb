{
 "cells": [
  {
   "cell_type": "code",
   "execution_count": 4,
   "metadata": {},
   "outputs": [
    {
     "name": "stdout",
     "output_type": "stream",
     "text": [
      "1.0.1.post2\n"
     ]
    },
    {
     "name": "stderr",
     "output_type": "stream",
     "text": [
      "[nltk_data] Downloading package wordnet to /home/skp454/nltk_data...\n",
      "[nltk_data]   Package wordnet is already up-to-date!\n",
      "UsageError: Line magic function `%` not found.\n"
     ]
    }
   ],
   "source": [
    "from __future__ import absolute_import\n",
    "from __future__ import division\n",
    "from __future__ import print_function\n",
    "\n",
    "import os\n",
    "os.environ['CUDA_LAUNCH_BLOCKING'] = \"1\"\n",
    "\n",
    "import argparse\n",
    "import json\n",
    "import random\n",
    "import time\n",
    "\n",
    "import tqdm\n",
    "import pickle\n",
    "from torchvision import datasets, transforms, models\n",
    "import loader\n",
    "import models\n",
    "import numpy as np\n",
    "\n",
    "import torch\n",
    "import torch.functional as F\n",
    "import torch.nn as nn\n",
    "import torch.optim as optim\n",
    "from torch.nn.utils.rnn import pack_padded_sequence, pad_packed_sequence\n",
    "\n",
    "import pandas as pd\n",
    "from sklearn.model_selection import train_test_split\n",
    "import numpy as np\n",
    "import unicodedata\n",
    "import re\n",
    "import datetime as dt\n",
    "print(torch.__version__)\n",
    "import shutil\n",
    "\n",
    "import nltk\n",
    "nltk.download('wordnet')\n",
    "from IPython.display import display, clear_output\n",
    "import matplotlib.pyplot as plt\n",
    "% matplotlib inline\n",
    "#import convlstm"
   ]
  },
  {
   "cell_type": "code",
   "execution_count": 5,
   "metadata": {},
   "outputs": [
    {
     "data": {
      "text/plain": [
       "<torch._C.Generator at 0x2b75cf8500d0>"
      ]
     },
     "execution_count": 5,
     "metadata": {},
     "output_type": "execute_result"
    }
   ],
   "source": [
    "# Set random seeds\n",
    "random.seed(7)\n",
    "torch.manual_seed(7)"
   ]
  },
  {
   "cell_type": "code",
   "execution_count": 6,
   "metadata": {},
   "outputs": [
    {
     "name": "stdout",
     "output_type": "stream",
     "text": [
      "cuda\n"
     ]
    }
   ],
   "source": [
    "# set device\n",
    "device = torch.device(\"cuda\" if torch.cuda.is_available() else \"cpu\")\n",
    "print(device)\n",
    "#device = \"cpu\""
   ]
  },
  {
   "cell_type": "code",
   "execution_count": 7,
   "metadata": {},
   "outputs": [],
   "source": [
    "with (open('/scratch/skp454/AST/MainDir/data/'+'dictionary.pkl', \"rb\")) as openfile:\n",
    "    dictionary = pickle.load(openfile, encoding = 'latin1')"
   ]
  },
  {
   "cell_type": "code",
   "execution_count": 8,
   "metadata": {},
   "outputs": [],
   "source": [
    "#train_file = '/scratch/skp454/AST/MainDir/data/s_train_set.pkl'\n",
    "dev_file = '/scratch/skp454/AST/MainDir/data/test_set.pkl'\n",
    "train_file = '/scratch/skp454/AST/MainDir/data/train_set.pkl'"
   ]
  },
  {
   "cell_type": "code",
   "execution_count": 9,
   "metadata": {},
   "outputs": [],
   "source": [
    "BATCH_SIZE = 16\n",
    "units = 256\n",
    "embedding_dim = 256"
   ]
  },
  {
   "cell_type": "code",
   "execution_count": 10,
   "metadata": {},
   "outputs": [],
   "source": [
    "# Loaders\n",
    "#train_ldr = loader.make_loader(train_file, BATCH_SIZE)\n",
    "dev_ldr = loader.make_loader(dev_file, BATCH_SIZE)\n",
    "\n",
    "def trans_input(inputs):\n",
    "    inputs = np.array(inputs)\n",
    "    inputs = np.swapaxes(inputs,1,3)\n",
    "    inputs = np.swapaxes(inputs,2,3)\n",
    "    return torch.Tensor(inputs)\n",
    "\n",
    "def trans_label(labels):\n",
    "    labels = np.array(labels)\n",
    "    #labels = np.swapaxes(labels,1,2)\n",
    "    return torch.Tensor(labels)"
   ]
  },
  {
   "cell_type": "code",
   "execution_count": 11,
   "metadata": {},
   "outputs": [],
   "source": [
    "class Encoder(nn.Module):\n",
    "    def __init__(self, batch_sz, enc_units):\n",
    "        super(Encoder, self).__init__()\n",
    "        self.batch_sz = batch_sz\n",
    "        self.enc_units = enc_units\n",
    "        self.feature = nn.Sequential(\n",
    "            nn.Conv2d(3, 32, kernel_size=3, stride=(1,2), padding=0),\n",
    "            nn.BatchNorm2d(32),\n",
    "            nn.Conv2d(32, 64, kernel_size=3, stride=(1,2), padding=0),\n",
    "            nn.BatchNorm2d(64))\n",
    "        self.recurrent = nn.Sequential(\n",
    "            nn.LSTM(4864, self.enc_units, 3, batch_first=True,  bidirectional =False, dropout = 0.5))\n",
    "        \n",
    "    def forward(self, x, device):\n",
    "        x = self.feature(x) \n",
    "        self.hidden = self.initialize_hidden_state(device)\n",
    "        x = x.permute(0,3,1,2)\n",
    "        x = x.reshape(x.shape[0], x.shape[1], x.shape[2] * x.shape[3])\n",
    "        output, self.hidden = self.recurrent(x)\n",
    "        return output, self.hidden\n",
    "\n",
    "    def initialize_hidden_state(self, device):\n",
    "        return torch.zeros((1, self.batch_sz, self.enc_units)).to(device)"
   ]
  },
  {
   "cell_type": "code",
   "execution_count": 12,
   "metadata": {},
   "outputs": [],
   "source": [
    "class Decoder(nn.Module):\n",
    "    def __init__(self, vocab_size, dec_units, enc_units, batch_sz, embedding_dim):\n",
    "        super(Decoder, self).__init__()\n",
    "        self.vocab_size = vocab_size\n",
    "        self.embedding_dim = embedding_dim\n",
    "        self.embedding = nn.Embedding(self.vocab_size, self.embedding_dim)\n",
    "        self.batch_sz = batch_sz\n",
    "        self.dec_units = dec_units\n",
    "        self.enc_units = enc_units\n",
    "        self.recurrent = nn.Sequential(\n",
    "            nn.LSTM(512, self.enc_units, 3, batch_first=True,  bidirectional =False, dropout = 0.5))\n",
    "        self.fc = nn.Linear(self.enc_units, self.vocab_size)\n",
    "        \n",
    "        # used for attention\n",
    "        self.W1 = nn.Linear(self.enc_units, self.dec_units)\n",
    "        self.W2 = nn.Linear(self.enc_units, self.dec_units)\n",
    "        self.V = nn.Linear(self.enc_units, 1)\n",
    "    \n",
    "    def forward(self, x, hidden, enc_output):\n",
    "        \n",
    "        hidden_with_time_axis = hidden.permute(1, 0, 2)[:,2,:].unsqueeze(1)\n",
    "        score = torch.tanh(self.W1(enc_output) + self.W2(hidden_with_time_axis))\n",
    "        \n",
    "        #score = torch.tanh(self.W2(hidden_with_time_axis) + self.W1(enc_output))\n",
    "        # attention_weights shape == (batch_size, max_length, 1)\n",
    "        # we get 1 at the last axis because we are applying score to self.V\n",
    "        attention_weights = torch.softmax(self.V(score), dim=1)\n",
    "        \n",
    "        # context_vector shape after sum == (batch_size, hidden_size)\n",
    "        context_vector = attention_weights * enc_output\n",
    "        context_vector = torch.sum(context_vector, dim=1)\n",
    "        \n",
    "        # x shape after passing through embedding == (batch_size, 1, embedding_dim)\n",
    "        x = x.type(torch.cuda.LongTensor)\n",
    "        x = x.unsqueeze(1)\n",
    "        x = x.to(device)\n",
    "        x = self.embedding(x)\n",
    "\n",
    "        # x shape after concatenation == (batch_size, 1, embedding_dim + hidden_size)\n",
    "        #x = tf.concat([tf.expand_dims(context_vector, 1), x], axis=-1)\n",
    "        # ? Looks like attention vector in diagram of source\n",
    "        x = torch.cat((context_vector.unsqueeze(1), x), -1)\n",
    "        \n",
    "        # passing the concatenated vector to the GRU\n",
    "        # output: (batch_size, 1, hidden_size)\n",
    "        output, [state, cell] = self.recurrent(x)\n",
    "        \n",
    "        \n",
    "        # output shape == (batch_size * 1, hidden_size)\n",
    "        output =  output.view(-1, output.size(2))\n",
    "        \n",
    "        # output shape == (batch_size * 1, vocab)\n",
    "        x = self.fc(output)\n",
    "        x = torch.softmax(x, dim=1)\n",
    "        return x, state, attention_weights\n",
    "    \n",
    "    def initialize_hidden_state(self):\n",
    "        return torch.zeros((1, self.batch_sz, self.dec_units))"
   ]
  },
  {
   "cell_type": "code",
   "execution_count": 13,
   "metadata": {},
   "outputs": [],
   "source": [
    "criterion = nn.CrossEntropyLoss()\n",
    "\n",
    "def loss_function(real, pred):\n",
    "    \"\"\" Only consider non-zero inputs in the loss; mask needed \"\"\"\n",
    "    #mask = 1 - np.equal(real, 0) # assign 0 to all above 0 and 1 to all 0s\n",
    "    #print(mask)\n",
    "    mask = real.ge(1).type(torch.cuda.FloatTensor)\n",
    "    real = real.type(torch.cuda.LongTensor)\n",
    "#     mask = real.ge(1).type(torch.FloatTensor)\n",
    "#     real = real.type(torch.LongTensor)\n",
    "    loss_ = criterion(pred, real) * mask \n",
    "    \n",
    "    return torch.mean(loss_)\n",
    "    "
   ]
  },
  {
   "cell_type": "code",
   "execution_count": 14,
   "metadata": {},
   "outputs": [],
   "source": [
    "# function to load model\n",
    "def load_model(model, model_path, use_cuda=False):\n",
    "    \"\"\"Load model.\"\"\"\n",
    "    map_location = 'cpu'\n",
    "    if use_cuda and torch.cuda.is_available():\n",
    "        map_location = 'cuda:0'\n",
    "    model.load_state_dict(torch.load(model_path, map_location))\n",
    "    return model"
   ]
  },
  {
   "cell_type": "code",
   "execution_count": 15,
   "metadata": {},
   "outputs": [],
   "source": [
    "## TODO: Combine the encoder and decoder into one class\n",
    "encoder = Encoder(BATCH_SIZE, units)\n",
    "decoder = Decoder(len(dictionary.keys())+1, units, units, BATCH_SIZE, embedding_dim)\n",
    "\n",
    "encoder.to(device)\n",
    "decoder.to(device)\n",
    "\n",
    "encoder.load_state_dict(torch.load('/scratch/skp454/AST/MainDir/models/13_encoder.pth.tar', device)['state_dict'])\n",
    "decoder.load_state_dict(torch.load('/scratch/skp454/AST/MainDir/models/13_decoder.pth.tar', device)['state_dict'])"
   ]
  },
  {
   "cell_type": "code",
   "execution_count": 16,
   "metadata": {},
   "outputs": [
    {
     "name": "stdout",
     "output_type": "stream",
     "text": [
      "335\n"
     ]
    }
   ],
   "source": [
    "### Evaluation on dev_set\n",
    "encoder.eval()\n",
    "decoder.eval()\n",
    "dev_total_loss = 0\n",
    "predict = []\n",
    "with torch.no_grad():\n",
    "    for inputs, labels in dev_ldr:\n",
    "        inputs, labels = trans_input(inputs).to(device), trans_label(labels).to(device)\n",
    "        loss = 0\n",
    "        enc_output, [enc_hidden, enc_cell] = encoder(inputs.to(device), device)\n",
    "        del inputs\n",
    "        del enc_cell\n",
    "        dec_hidden = enc_hidden\n",
    "        del enc_hidden\n",
    "        dec_input = labels[:,0]\n",
    "        lis = []\n",
    "\n",
    "        for t in range(1, labels.size(1)):\n",
    "            predictions, dec_hidden, _ = decoder(dec_input.to(device), \n",
    "                                                 dec_hidden.to(device), \n",
    "                                                 enc_output.to(device))\n",
    "            del dec_input\n",
    "            loss += loss_function(labels[:,t], predictions.to(device))\n",
    "            dec_input = labels[:,t]\n",
    "\n",
    "            lis.append(np.array([np.array(labels[:,t].cpu()),\\\n",
    "                             list(np.array(predictions.max(1)[1].cpu()))]))\n",
    "        predict.append(lis)\n",
    "        clear_output()\n",
    "        print(len(predict))\n",
    "        dev_batch_loss = (loss / int(labels.size(1)))\n",
    "        dev_total_loss += dev_batch_loss\n"
   ]
  },
  {
   "cell_type": "code",
   "execution_count": 17,
   "metadata": {},
   "outputs": [],
   "source": [
    "predict = np.array(predict)\n",
    "predict = np.swapaxes(predict, 1, 3)"
   ]
  },
  {
   "cell_type": "code",
   "execution_count": 18,
   "metadata": {},
   "outputs": [
    {
     "data": {
      "text/plain": [
       "(335, 16, 2, 18)"
      ]
     },
     "execution_count": 18,
     "metadata": {},
     "output_type": "execute_result"
    }
   ],
   "source": [
    "predict.shape"
   ]
  },
  {
   "cell_type": "code",
   "execution_count": 19,
   "metadata": {},
   "outputs": [],
   "source": [
    "# prepare invesrion dictionary\n",
    "map_dict = dict([[v,k] for k,v in dictionary.items()])           "
   ]
  },
  {
   "cell_type": "code",
   "execution_count": 20,
   "metadata": {},
   "outputs": [],
   "source": [
    "def cleanit(text, word):\n",
    "    text1 = text\n",
    "    run = True\n",
    "    while run:\n",
    "        try:\n",
    "            text1.remove(word)\n",
    "        except:\n",
    "            run = False\n",
    "    run = True\n",
    "    return text1"
   ]
  },
  {
   "cell_type": "code",
   "execution_count": 21,
   "metadata": {},
   "outputs": [],
   "source": [
    "pairs = []\n",
    "for i in range(predict.shape[0]):\n",
    "    for j in range(predict.shape[1]):\n",
    "        true = list(map(map_dict.get, list(predict[i][j][0])))\n",
    "        true = cleanit(true, '_')\n",
    "        true = cleanit(true, '</s>')\n",
    "        pred = list(map(map_dict.get, list(predict[i][j][1])))\n",
    "        pred = cleanit(pred, '_')\n",
    "        pred = cleanit(pred,'</s>')\n",
    "        pairs.append([true, pred])\n"
   ]
  },
  {
   "cell_type": "code",
   "execution_count": 98,
   "metadata": {},
   "outputs": [
    {
     "name": "stderr",
     "output_type": "stream",
     "text": [
      "/home/skp454/bigdata/bdpy/lib/python3.6/site-packages/nltk/translate/bleu_score.py:523: UserWarning: \n",
      "The hypothesis contains 0 counts of 2-gram overlaps.\n",
      "Therefore the BLEU score evaluates to 0, independently of\n",
      "how many N-gram overlaps of lower order it contains.\n",
      "Consider using lower n-gram order or use SmoothingFunction()\n",
      "  warnings.warn(_msg)\n",
      "/home/skp454/bigdata/bdpy/lib/python3.6/site-packages/nltk/translate/bleu_score.py:523: UserWarning: \n",
      "The hypothesis contains 0 counts of 3-gram overlaps.\n",
      "Therefore the BLEU score evaluates to 0, independently of\n",
      "how many N-gram overlaps of lower order it contains.\n",
      "Consider using lower n-gram order or use SmoothingFunction()\n",
      "  warnings.warn(_msg)\n",
      "/home/skp454/bigdata/bdpy/lib/python3.6/site-packages/nltk/translate/bleu_score.py:523: UserWarning: \n",
      "The hypothesis contains 0 counts of 4-gram overlaps.\n",
      "Therefore the BLEU score evaluates to 0, independently of\n",
      "how many N-gram overlaps of lower order it contains.\n",
      "Consider using lower n-gram order or use SmoothingFunction()\n",
      "  warnings.warn(_msg)\n"
     ]
    }
   ],
   "source": [
    "from nltk.translate.bleu_score import sentence_bleu\n",
    "score = []\n",
    "for i in pairs:    \n",
    "    score.append(sentence_bleu([i[0]], i[1], weights=(1, 0, 0, 0)))\n",
    "    #score.append(sentence_bleu([i[0]], i[1]))"
   ]
  },
  {
   "cell_type": "code",
   "execution_count": 158,
   "metadata": {},
   "outputs": [
    {
     "data": {
      "image/png": "[encoded data removed]",
      "text/plain": [
       "<matplotlib.figure.Figure at 0x2b7734668198>"
      ]
     },
     "metadata": {
      "needs_background": "light"
     },
     "output_type": "display_data"
    }
   ],
   "source": [
    "plt.hist(score, bins =20 ,histtype= 'bar',  edgecolor='blue', color='white', linewidth=2.0)\n",
    "plt.xlabel(\"Uni-gram BLEU Score\", fontsize = 12)\n",
    "plt.ylabel(\"Number of Sentences\", fontsize = 12)\n",
    "plt.vlines(np.mean(score),0,2000, linestyles = 'dashed', color = 'red')\n",
    "plt.vlines(0.01 ,0,2000, linestyles = 'dashed', color = 'green')\n",
    "plt.vlines(0.39 ,0,2000, linestyles = 'dashed', color = 'green')\n",
    "plt.xlim(-0.05,1)\n",
    "plt.ylim(0,2000)\n",
    "plt.title('Uni-Gram Score for Sentences Predicted by Model', fontsize = 14)\n",
    "plt.savefig('hist1.png')"
   ]
  }
 ],
 "metadata": {
  "kernelspec": {
   "display_name": "Python 3",
   "language": "python",
   "name": "python3"
  },
  "language_info": {
   "codemirror_mode": {
    "name": "ipython",
    "version": 3
   },
   "file_extension": ".py",
   "mimetype": "text/x-python",
   "name": "python",
   "nbconvert_exporter": "python",
   "pygments_lexer": "ipython3",
   "version": "3.6.3"
  }
 },
 "nbformat": 4,
 "nbformat_minor": 2
}
